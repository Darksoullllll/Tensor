{
  "cells": [
    {
      "cell_type": "code",
      "execution_count": 1,
      "metadata": {
        "colab": {
          "base_uri": "https://localhost:8080/"
        },
        "id": "ut02qJU_dBvS",
        "outputId": "b17dcd0a-d9c7-4ecb-9ead-61858ef0d077"
      },
      "outputs": [
        {
          "name": "stdout",
          "output_type": "stream",
          "text": [
            "Collecting git+https://github.com/sberbank-ai/Real-ESRGAN.git\n",
            "  Cloning https://github.com/sberbank-ai/Real-ESRGAN.git to /tmp/pip-req-build-gye0hmya\n",
            "  Running command git clone --filter=blob:none --quiet https://github.com/sberbank-ai/Real-ESRGAN.git /tmp/pip-req-build-gye0hmya\n",
            "  Resolved https://github.com/sberbank-ai/Real-ESRGAN.git to commit 362a0316878f41dbdfbb23657b450c3353de5acf\n",
            "  Preparing metadata (setup.py) ... \u001b[?25l\u001b[?25hdone\n",
            "Requirement already satisfied: numpy in /usr/local/lib/python3.10/dist-packages (from RealESRGAN==1.0) (1.25.2)\n",
            "Requirement already satisfied: opencv-python in /usr/local/lib/python3.10/dist-packages (from RealESRGAN==1.0) (4.8.0.76)\n",
            "Requirement already satisfied: Pillow in /usr/local/lib/python3.10/dist-packages (from RealESRGAN==1.0) (9.4.0)\n",
            "Requirement already satisfied: torch>=1.7 in /usr/local/lib/python3.10/dist-packages (from RealESRGAN==1.0) (2.3.0+cu121)\n",
            "Requirement already satisfied: torchvision>=0.8.0 in /usr/local/lib/python3.10/dist-packages (from RealESRGAN==1.0) (0.18.0+cu121)\n",
            "Requirement already satisfied: tqdm in /usr/local/lib/python3.10/dist-packages (from RealESRGAN==1.0) (4.66.4)\n",
            "Requirement already satisfied: huggingface-hub in /usr/local/lib/python3.10/dist-packages (from RealESRGAN==1.0) (0.23.4)\n",
            "Requirement already satisfied: filelock in /usr/local/lib/python3.10/dist-packages (from torch>=1.7->RealESRGAN==1.0) (3.15.4)\n",
            "Requirement already satisfied: typing-extensions>=4.8.0 in /usr/local/lib/python3.10/dist-packages (from torch>=1.7->RealESRGAN==1.0) (4.12.2)\n",
            "Requirement already satisfied: sympy in /usr/local/lib/python3.10/dist-packages (from torch>=1.7->RealESRGAN==1.0) (1.13.0)\n",
            "Requirement already satisfied: networkx in /usr/local/lib/python3.10/dist-packages (from torch>=1.7->RealESRGAN==1.0) (3.3)\n",
            "Requirement already satisfied: jinja2 in /usr/local/lib/python3.10/dist-packages (from torch>=1.7->RealESRGAN==1.0) (3.1.4)\n",
            "Requirement already satisfied: fsspec in /usr/local/lib/python3.10/dist-packages (from torch>=1.7->RealESRGAN==1.0) (2023.6.0)\n",
            "Collecting nvidia-cuda-nvrtc-cu12==12.1.105 (from torch>=1.7->RealESRGAN==1.0)\n",
            "  Using cached nvidia_cuda_nvrtc_cu12-12.1.105-py3-none-manylinux1_x86_64.whl (23.7 MB)\n",
            "Collecting nvidia-cuda-runtime-cu12==12.1.105 (from torch>=1.7->RealESRGAN==1.0)\n",
            "  Using cached nvidia_cuda_runtime_cu12-12.1.105-py3-none-manylinux1_x86_64.whl (823 kB)\n",
            "Collecting nvidia-cuda-cupti-cu12==12.1.105 (from torch>=1.7->RealESRGAN==1.0)\n",
            "  Using cached nvidia_cuda_cupti_cu12-12.1.105-py3-none-manylinux1_x86_64.whl (14.1 MB)\n",
            "Collecting nvidia-cudnn-cu12==8.9.2.26 (from torch>=1.7->RealESRGAN==1.0)\n",
            "  Using cached nvidia_cudnn_cu12-8.9.2.26-py3-none-manylinux1_x86_64.whl (731.7 MB)\n",
            "Collecting nvidia-cublas-cu12==12.1.3.1 (from torch>=1.7->RealESRGAN==1.0)\n",
            "  Using cached nvidia_cublas_cu12-12.1.3.1-py3-none-manylinux1_x86_64.whl (410.6 MB)\n",
            "Collecting nvidia-cufft-cu12==11.0.2.54 (from torch>=1.7->RealESRGAN==1.0)\n",
            "  Using cached nvidia_cufft_cu12-11.0.2.54-py3-none-manylinux1_x86_64.whl (121.6 MB)\n",
            "Collecting nvidia-curand-cu12==10.3.2.106 (from torch>=1.7->RealESRGAN==1.0)\n",
            "  Using cached nvidia_curand_cu12-10.3.2.106-py3-none-manylinux1_x86_64.whl (56.5 MB)\n",
            "Collecting nvidia-cusolver-cu12==11.4.5.107 (from torch>=1.7->RealESRGAN==1.0)\n",
            "  Using cached nvidia_cusolver_cu12-11.4.5.107-py3-none-manylinux1_x86_64.whl (124.2 MB)\n",
            "Collecting nvidia-cusparse-cu12==12.1.0.106 (from torch>=1.7->RealESRGAN==1.0)\n",
            "  Using cached nvidia_cusparse_cu12-12.1.0.106-py3-none-manylinux1_x86_64.whl (196.0 MB)\n",
            "Collecting nvidia-nccl-cu12==2.20.5 (from torch>=1.7->RealESRGAN==1.0)\n",
            "  Using cached nvidia_nccl_cu12-2.20.5-py3-none-manylinux2014_x86_64.whl (176.2 MB)\n",
            "Collecting nvidia-nvtx-cu12==12.1.105 (from torch>=1.7->RealESRGAN==1.0)\n",
            "  Using cached nvidia_nvtx_cu12-12.1.105-py3-none-manylinux1_x86_64.whl (99 kB)\n",
            "Requirement already satisfied: triton==2.3.0 in /usr/local/lib/python3.10/dist-packages (from torch>=1.7->RealESRGAN==1.0) (2.3.0)\n",
            "Collecting nvidia-nvjitlink-cu12 (from nvidia-cusolver-cu12==11.4.5.107->torch>=1.7->RealESRGAN==1.0)\n",
            "  Downloading nvidia_nvjitlink_cu12-12.5.82-py3-none-manylinux2014_x86_64.whl (21.3 MB)\n",
            "\u001b[2K     \u001b[90m━━━━━━━━━━━━━━━━━━━━━━━━━━━━━━━━━━━━━━━━\u001b[0m \u001b[32m21.3/21.3 MB\u001b[0m \u001b[31m56.3 MB/s\u001b[0m eta \u001b[36m0:00:00\u001b[0m\n",
            "\u001b[?25hRequirement already satisfied: packaging>=20.9 in /usr/local/lib/python3.10/dist-packages (from huggingface-hub->RealESRGAN==1.0) (24.1)\n",
            "Requirement already satisfied: pyyaml>=5.1 in /usr/local/lib/python3.10/dist-packages (from huggingface-hub->RealESRGAN==1.0) (6.0.1)\n",
            "Requirement already satisfied: requests in /usr/local/lib/python3.10/dist-packages (from huggingface-hub->RealESRGAN==1.0) (2.31.0)\n",
            "Requirement already satisfied: MarkupSafe>=2.0 in /usr/local/lib/python3.10/dist-packages (from jinja2->torch>=1.7->RealESRGAN==1.0) (2.1.5)\n",
            "Requirement already satisfied: charset-normalizer<4,>=2 in /usr/local/lib/python3.10/dist-packages (from requests->huggingface-hub->RealESRGAN==1.0) (3.3.2)\n",
            "Requirement already satisfied: idna<4,>=2.5 in /usr/local/lib/python3.10/dist-packages (from requests->huggingface-hub->RealESRGAN==1.0) (3.7)\n",
            "Requirement already satisfied: urllib3<3,>=1.21.1 in /usr/local/lib/python3.10/dist-packages (from requests->huggingface-hub->RealESRGAN==1.0) (2.0.7)\n",
            "Requirement already satisfied: certifi>=2017.4.17 in /usr/local/lib/python3.10/dist-packages (from requests->huggingface-hub->RealESRGAN==1.0) (2024.7.4)\n",
            "Requirement already satisfied: mpmath<1.4,>=1.1.0 in /usr/local/lib/python3.10/dist-packages (from sympy->torch>=1.7->RealESRGAN==1.0) (1.3.0)\n",
            "Building wheels for collected packages: RealESRGAN\n",
            "  Building wheel for RealESRGAN (setup.py) ... \u001b[?25l\u001b[?25hdone\n",
            "  Created wheel for RealESRGAN: filename=RealESRGAN-1.0-py3-none-any.whl size=9106 sha256=afd851a27efaa6b81d468ab50126a51a0c9e54f6a798c61ba4ca0be7027bb132\n",
            "  Stored in directory: /tmp/pip-ephem-wheel-cache-ub2cuc17/wheels/dd/a3/7d/774508ed192455403be294c8a6c4ad1c83dde8fcdd8903e64a\n",
            "Successfully built RealESRGAN\n",
            "Installing collected packages: nvidia-nvtx-cu12, nvidia-nvjitlink-cu12, nvidia-nccl-cu12, nvidia-curand-cu12, nvidia-cufft-cu12, nvidia-cuda-runtime-cu12, nvidia-cuda-nvrtc-cu12, nvidia-cuda-cupti-cu12, nvidia-cublas-cu12, nvidia-cusparse-cu12, nvidia-cudnn-cu12, nvidia-cusolver-cu12, RealESRGAN\n",
            "Successfully installed RealESRGAN-1.0 nvidia-cublas-cu12-12.1.3.1 nvidia-cuda-cupti-cu12-12.1.105 nvidia-cuda-nvrtc-cu12-12.1.105 nvidia-cuda-runtime-cu12-12.1.105 nvidia-cudnn-cu12-8.9.2.26 nvidia-cufft-cu12-11.0.2.54 nvidia-curand-cu12-10.3.2.106 nvidia-cusolver-cu12-11.4.5.107 nvidia-cusparse-cu12-12.1.0.106 nvidia-nccl-cu12-2.20.5 nvidia-nvjitlink-cu12-12.5.82 nvidia-nvtx-cu12-12.1.105\n"
          ]
        }
      ],
      "source": [
        "%pip install git+https://github.com/sberbank-ai/Real-ESRGAN.git"
      ]
    },
    {
      "cell_type": "code",
      "execution_count": 12,
      "metadata": {
        "colab": {
          "base_uri": "https://localhost:8080/"
        },
        "id": "vYYelVK7dOyo",
        "outputId": "798479e7-6843-418d-b561-b9eec4d8703a"
      },
      "outputs": [
        {
          "name": "stdout",
          "output_type": "stream",
          "text": [
            "device: cuda\n"
          ]
        }
      ],
      "source": [
        "from RealESRGAN import RealESRGAN #type:ignore\n",
        "from PIL import Image\n",
        "import numpy as np\n",
        "import torch\n",
        "import cv2 as cv\n",
        "\n",
        "device = torch.device('cuda' if torch.cuda.is_available() else 'cpu')\n",
        "print('device:', device)\n",
        "\n",
        "model_scale = \"4\"\n",
        "\n",
        "model = RealESRGAN(device, scale=int(model_scale))\n",
        "model.load_weights(f'weights/RealESRGAN_x{model_scale}.pth')"
      ]
    },
    {
      "cell_type": "code",
      "execution_count": 17,
      "metadata": {
        "id": "M1QjkO7idnMy"
      },
      "outputs": [],
      "source": [
        "def upScaling(video,width,height,fps,scale,device='cuda'):\n",
        "    #creating output video after upscaling\n",
        "    fourcc = cv.VideoWriter_fourcc(*'mp4v')\n",
        "    out = cv.VideoWriter(\"./output_video.mp4\", fourcc, fps, (width * scale, height * scale))\n",
        "\n",
        "    frame_count = 0\n",
        "    while True:\n",
        "        ret, frame = video.read()   # getting each frame\n",
        "        if not ret:\n",
        "            break\n",
        "\n",
        "        frame_rgb = cv.cvtColor(frame, cv.COLOR_BGR2RGB)  #converting to RGB\n",
        "\n",
        "\n",
        "        sr_frame = model.predict(frame_rgb)   # upScaling using RealESRGAN\n",
        "\n",
        "        #converting to the numpy array\n",
        "        if isinstance(sr_frame, torch.Tensor):\n",
        "            sr_frame = sr_frame.cpu().numpy()\n",
        "        elif isinstance(sr_frame, np.ndarray):\n",
        "            pass\n",
        "        elif isinstance(sr_frame, Image.Image):\n",
        "            sr_frame = np.array(sr_frame)\n",
        "        else:\n",
        "            raise ValueError(\"Unexpected output type from model.predict()\")\n",
        "\n",
        "        #converting upscale frame into BGR\n",
        "        sr_frame_bgr = cv.cvtColor(sr_frame, cv.COLOR_RGB2BGR)\n",
        "\n",
        "        #combining each frame into video\n",
        "        out.write(sr_frame_bgr)\n",
        "\n",
        "        frame_count += 1\n",
        "\n",
        "\n",
        "\n",
        "    video.release()\n",
        "    out.release()\n",
        "    print(\"Upscaling complete.\")"
      ]
    },
    {
      "cell_type": "code",
      "execution_count": 18,
      "metadata": {
        "id": "arjxvu84dqEE"
      },
      "outputs": [],
      "source": [
        "video = cv.VideoCapture(\"input2.mp4\")\n",
        "fps = video.get(cv.CAP_PROP_FPS)\n",
        "width = int(video.get(cv.CAP_PROP_FRAME_WIDTH))\n",
        "height = int(video.get(cv.CAP_PROP_FRAME_HEIGHT))"
      ]
    },
    {
      "cell_type": "code",
      "execution_count": 19,
      "metadata": {
        "colab": {
          "base_uri": "https://localhost:8080/"
        },
        "id": "1nmgs6Egdzq6",
        "outputId": "4b0897f5-3c4e-469e-e512-7ca7418eb89b"
      },
      "outputs": [
        {
          "name": "stdout",
          "output_type": "stream",
          "text": [
            "Fps is: 30.0 , Width is: 852, Height is: 480\n"
          ]
        }
      ],
      "source": [
        "print(f'Fps is: {fps} , Width is: {width}, Height is: {height}')"
      ]
    },
    {
      "cell_type": "code",
      "execution_count": 20,
      "metadata": {
        "colab": {
          "base_uri": "https://localhost:8080/"
        },
        "id": "s0Igbdyfd4N8",
        "outputId": "8165a023-b5f9-4bcb-cd1d-10b1f2975fd2"
      },
      "outputs": [
        {
          "name": "stdout",
          "output_type": "stream",
          "text": [
            "Upscaling complete.\n"
          ]
        }
      ],
      "source": [
        "upScaling(video,width,height,fps,4,device='cuda')"
      ]
    },
    {
      "cell_type": "code",
      "execution_count": null,
      "metadata": {
        "id": "3n9v5dUPeUTe"
      },
      "outputs": [],
      "source": []
    }
  ],
  "metadata": {
    "accelerator": "GPU",
    "colab": {
      "gpuType": "T4",
      "provenance": []
    },
    "kernelspec": {
      "display_name": "Python 3",
      "name": "python3"
    },
    "language_info": {
      "name": "python"
    }
  },
  "nbformat": 4,
  "nbformat_minor": 0
}
